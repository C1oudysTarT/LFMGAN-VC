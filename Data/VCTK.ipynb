{
 "cells": [
  {
   "cell_type": "code",
   "execution_count": 1,
   "id": "347ace04",
   "metadata": {},
   "outputs": [],
   "source": [
    "# VCTK Corpus Paths\n",
    "__CORPUSPATH__ = \"../../Data/VCTK\"\n",
    "\n",
    "# output path\n",
    "__OUTPATH__ = \"./Data\""
   ]
  },
  {
   "cell_type": "code",
   "execution_count": 2,
   "id": "4ce9eb2e",
   "metadata": {},
   "outputs": [
    {
     "name": "stderr",
     "output_type": "stream",
     "text": [
      "c:\\Users\\roy\\.conda\\envs\\starganv2-vc\\lib\\site-packages\\pydub\\utils.py:170: RuntimeWarning: Couldn't find ffmpeg or avconv - defaulting to ffmpeg, but may not work\n",
      "  warn(\"Couldn't find ffmpeg or avconv - defaulting to ffmpeg, but may not work\", RuntimeWarning)\n"
     ]
    }
   ],
   "source": [
    "import os\n",
    "from scipy.io import wavfile\n",
    "from pydub import AudioSegment\n",
    "\n",
    "from pydub import AudioSegment\n",
    "from pydub.silence import split_on_silence\n",
    "import os\n",
    "\n",
    "def split(sound):\n",
    "    dBFS = sound.dBFS\n",
    "    chunks = split_on_silence(sound,\n",
    "        min_silence_len = 100,\n",
    "        silence_thresh = dBFS-16,\n",
    "        keep_silence = 100\n",
    "    )\n",
    "    return chunks\n",
    "\n",
    "def combine(_src):\n",
    "    audio = AudioSegment.empty()\n",
    "    for i,filename in enumerate(os.listdir(_src)):\n",
    "        if filename.endswith('.wav'):\n",
    "            filename = os.path.join(_src, filename)\n",
    "            audio += AudioSegment.from_wav(filename)\n",
    "    return audio\n",
    "\n",
    "def save_chunks(chunks, directory):\n",
    "    if not os.path.exists(directory):\n",
    "        os.makedirs(directory)\n",
    "    counter = 0\n",
    "\n",
    "    target_length = 5 * 1000\n",
    "    output_chunks = [chunks[0]]\n",
    "    for chunk in chunks[1:]:\n",
    "        if len(output_chunks[-1]) < target_length:\n",
    "            output_chunks[-1] += chunk\n",
    "        else:\n",
    "            # if the last output chunk is longer than the target length,\n",
    "            # we can start a new one\n",
    "            output_chunks.append(chunk)\n",
    "\n",
    "    for chunk in output_chunks:\n",
    "        chunk = chunk.set_frame_rate(24000)\n",
    "        chunk = chunk.set_channels(1)\n",
    "        counter = counter + 1\n",
    "        chunk.export(os.path.join(directory, str(counter) + '.wav'), format=\"wav\")"
   ]
  },
  {
   "cell_type": "code",
   "execution_count": 3,
   "id": "769a7f62",
   "metadata": {},
   "outputs": [],
   "source": [
    "# Source: http://speech.ee.ntu.edu.tw/~jjery2243542/resource/model/is18/en_speaker_used.txt\n",
    "# Source: https://github.com/jjery2243542/voice_conversion\n",
    "\n",
    "speakers = [225,228,229,230,231,233,236,239,240,244,226,227,232,243,254,256,258,259,270,273]"
   ]
  },
  {
   "cell_type": "code",
   "execution_count": 4,
   "id": "9302fb6a",
   "metadata": {},
   "outputs": [
    {
     "ename": "FileNotFoundError",
     "evalue": "[WinError 3] 系统找不到指定的路径。: '../../Data/VCTK/wav48/p225'",
     "output_type": "error",
     "traceback": [
      "\u001b[1;31m---------------------------------------------------------------------------\u001b[0m",
      "\u001b[1;31mFileNotFoundError\u001b[0m                         Traceback (most recent call last)",
      "\u001b[1;32m~\\AppData\\Local\\Temp\\ipykernel_15516\\207683125.py\u001b[0m in \u001b[0;36m<module>\u001b[1;34m\u001b[0m\n\u001b[0;32m      4\u001b[0m     \u001b[0mdirectory\u001b[0m \u001b[1;33m=\u001b[0m \u001b[0m__OUTPATH__\u001b[0m \u001b[1;33m+\u001b[0m \u001b[1;34m'/p'\u001b[0m \u001b[1;33m+\u001b[0m \u001b[0mstr\u001b[0m\u001b[1;33m(\u001b[0m\u001b[0mp\u001b[0m\u001b[1;33m)\u001b[0m\u001b[1;33m\u001b[0m\u001b[1;33m\u001b[0m\u001b[0m\n\u001b[0;32m      5\u001b[0m     \u001b[1;32mif\u001b[0m \u001b[1;32mnot\u001b[0m \u001b[0mos\u001b[0m\u001b[1;33m.\u001b[0m\u001b[0mpath\u001b[0m\u001b[1;33m.\u001b[0m\u001b[0mexists\u001b[0m\u001b[1;33m(\u001b[0m\u001b[0mdirectory\u001b[0m\u001b[1;33m)\u001b[0m\u001b[1;33m:\u001b[0m\u001b[1;33m\u001b[0m\u001b[1;33m\u001b[0m\u001b[0m\n\u001b[1;32m----> 6\u001b[1;33m         \u001b[0maudio\u001b[0m \u001b[1;33m=\u001b[0m \u001b[0mcombine\u001b[0m\u001b[1;33m(\u001b[0m\u001b[0m__CORPUSPATH__\u001b[0m \u001b[1;33m+\u001b[0m \u001b[1;34m'/wav48/p'\u001b[0m \u001b[1;33m+\u001b[0m \u001b[0mstr\u001b[0m\u001b[1;33m(\u001b[0m\u001b[0mp\u001b[0m\u001b[1;33m)\u001b[0m\u001b[1;33m)\u001b[0m\u001b[1;33m\u001b[0m\u001b[1;33m\u001b[0m\u001b[0m\n\u001b[0m\u001b[0;32m      7\u001b[0m         \u001b[0mchunks\u001b[0m \u001b[1;33m=\u001b[0m \u001b[0msplit\u001b[0m\u001b[1;33m(\u001b[0m\u001b[0maudio\u001b[0m\u001b[1;33m)\u001b[0m\u001b[1;33m\u001b[0m\u001b[1;33m\u001b[0m\u001b[0m\n\u001b[0;32m      8\u001b[0m         \u001b[0msave_chunks\u001b[0m\u001b[1;33m(\u001b[0m\u001b[0mchunks\u001b[0m\u001b[1;33m,\u001b[0m \u001b[0mdirectory\u001b[0m\u001b[1;33m)\u001b[0m\u001b[1;33m\u001b[0m\u001b[1;33m\u001b[0m\u001b[0m\n",
      "\u001b[1;32m~\\AppData\\Local\\Temp\\ipykernel_15516\\3404470887.py\u001b[0m in \u001b[0;36mcombine\u001b[1;34m(_src)\u001b[0m\n\u001b[0;32m     18\u001b[0m \u001b[1;32mdef\u001b[0m \u001b[0mcombine\u001b[0m\u001b[1;33m(\u001b[0m\u001b[0m_src\u001b[0m\u001b[1;33m)\u001b[0m\u001b[1;33m:\u001b[0m\u001b[1;33m\u001b[0m\u001b[1;33m\u001b[0m\u001b[0m\n\u001b[0;32m     19\u001b[0m     \u001b[0maudio\u001b[0m \u001b[1;33m=\u001b[0m \u001b[0mAudioSegment\u001b[0m\u001b[1;33m.\u001b[0m\u001b[0mempty\u001b[0m\u001b[1;33m(\u001b[0m\u001b[1;33m)\u001b[0m\u001b[1;33m\u001b[0m\u001b[1;33m\u001b[0m\u001b[0m\n\u001b[1;32m---> 20\u001b[1;33m     \u001b[1;32mfor\u001b[0m \u001b[0mi\u001b[0m\u001b[1;33m,\u001b[0m\u001b[0mfilename\u001b[0m \u001b[1;32min\u001b[0m \u001b[0menumerate\u001b[0m\u001b[1;33m(\u001b[0m\u001b[0mos\u001b[0m\u001b[1;33m.\u001b[0m\u001b[0mlistdir\u001b[0m\u001b[1;33m(\u001b[0m\u001b[0m_src\u001b[0m\u001b[1;33m)\u001b[0m\u001b[1;33m)\u001b[0m\u001b[1;33m:\u001b[0m\u001b[1;33m\u001b[0m\u001b[1;33m\u001b[0m\u001b[0m\n\u001b[0m\u001b[0;32m     21\u001b[0m         \u001b[1;32mif\u001b[0m \u001b[0mfilename\u001b[0m\u001b[1;33m.\u001b[0m\u001b[0mendswith\u001b[0m\u001b[1;33m(\u001b[0m\u001b[1;34m'.wav'\u001b[0m\u001b[1;33m)\u001b[0m\u001b[1;33m:\u001b[0m\u001b[1;33m\u001b[0m\u001b[1;33m\u001b[0m\u001b[0m\n\u001b[0;32m     22\u001b[0m             \u001b[0mfilename\u001b[0m \u001b[1;33m=\u001b[0m \u001b[0mos\u001b[0m\u001b[1;33m.\u001b[0m\u001b[0mpath\u001b[0m\u001b[1;33m.\u001b[0m\u001b[0mjoin\u001b[0m\u001b[1;33m(\u001b[0m\u001b[0m_src\u001b[0m\u001b[1;33m,\u001b[0m \u001b[0mfilename\u001b[0m\u001b[1;33m)\u001b[0m\u001b[1;33m\u001b[0m\u001b[1;33m\u001b[0m\u001b[0m\n",
      "\u001b[1;31mFileNotFoundError\u001b[0m: [WinError 3] 系统找不到指定的路径。: '../../Data/VCTK/wav48/p225'"
     ]
    }
   ],
   "source": [
    "# downsample to 24 kHz\n",
    "\n",
    "for p in speakers:\n",
    "    directory = __OUTPATH__ + '/p' + str(p)\n",
    "    if not os.path.exists(directory):\n",
    "        audio = combine(__CORPUSPATH__ + '/wav48/p' + str(p))\n",
    "        chunks = split(audio)\n",
    "        save_chunks(chunks, directory)"
   ]
  },
  {
   "cell_type": "code",
   "execution_count": null,
   "id": "4b0ca022",
   "metadata": {},
   "outputs": [
    {
     "ename": "",
     "evalue": "",
     "output_type": "error",
     "traceback": [
      "\u001b[1;31mRunning cells with 'Python 3.7.15 ('starganv2-vc')' requires ipykernel package.\n",
      "\u001b[1;31mRun the following command to install 'ipykernel' into the Python environment. \n",
      "\u001b[1;31mCommand: 'conda install -n starganv2-vc ipykernel --update-deps --force-reinstall'"
     ]
    }
   ],
   "source": [
    "# get all speakers\n",
    "\n",
    "data_list = []\n",
    "for path, subdirs, files in os.walk(__OUTPATH__):\n",
    "    for name in files:\n",
    "        if name.endswith(\".wav\"):\n",
    "            speaker = int(path.split('/')[-1].replace('p', ''))\n",
    "            if speaker in speakers:\n",
    "                data_list.append({\"Path\": os.path.join(path, name), \"Speaker\": int(speakers.index(speaker)) + 1})\n",
    "                \n",
    "import pandas as pd\n",
    "\n",
    "data_list = pd.DataFrame(data_list)\n",
    "data_list = data_list.sample(frac=1)\n",
    "\n",
    "import random\n",
    "\n",
    "split_idx = round(len(data_list) * 0.1)\n",
    "\n",
    "test_data = data_list[:split_idx]\n",
    "train_data = data_list[split_idx:]"
   ]
  },
  {
   "cell_type": "code",
   "execution_count": null,
   "id": "88df2a45",
   "metadata": {},
   "outputs": [
    {
     "ename": "",
     "evalue": "",
     "output_type": "error",
     "traceback": [
      "\u001b[1;31mRunning cells with 'Python 3.7.15 ('starganv2-vc')' requires ipykernel package.\n",
      "\u001b[1;31mRun the following command to install 'ipykernel' into the Python environment. \n",
      "\u001b[1;31mCommand: 'conda install -n starganv2-vc ipykernel --update-deps --force-reinstall'"
     ]
    }
   ],
   "source": [
    "# write to file \n",
    "\n",
    "file_str = \"\"\n",
    "for index, k in train_data.iterrows():\n",
    "    file_str += k['Path'] + \"|\" +str(k['Speaker'] - 1)+ '\\n'\n",
    "text_file = open(__OUTPATH__ + \"/train_list.txt\", \"w\")\n",
    "text_file.write(file_str)\n",
    "text_file.close()\n",
    "\n",
    "file_str = \"\"\n",
    "for index, k in test_data.iterrows():\n",
    "    file_str += k['Path'] + \"|\" + str(k['Speaker'] - 1) + '\\n'\n",
    "text_file = open(__OUTPATH__ + \"/val_list.txt\", \"w\")\n",
    "text_file.write(file_str)\n",
    "text_file.close()"
   ]
  }
 ],
 "metadata": {
  "kernelspec": {
   "display_name": "Python 3.7.15 ('starganv2-vc')",
   "language": "python",
   "name": "python3"
  },
  "language_info": {
   "codemirror_mode": {
    "name": "ipython",
    "version": 3
   },
   "file_extension": ".py",
   "mimetype": "text/x-python",
   "name": "python",
   "nbconvert_exporter": "python",
   "pygments_lexer": "ipython3",
   "version": "3.7.15"
  },
  "vscode": {
   "interpreter": {
    "hash": "ca1837cfc465ebf765ee2ab195f648d84e1856e157fe3025aa6b3d75ec798903"
   }
  }
 },
 "nbformat": 4,
 "nbformat_minor": 5
}
